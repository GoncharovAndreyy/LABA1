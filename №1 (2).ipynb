{
 "cells": [
  {
   "cell_type": "code",
   "execution_count": null,
   "metadata": {},
   "outputs": [],
   "source": [
    "mass=['a','b','c','d','e','a','a','b','c']\n",
    "def dict0(mass):\n",
    "    dict1={}\n",
    "    for i in mass:\n",
    "        mass2=[]\n",
    "        for j in range(len(mass)):\n",
    "            if mass[j]==i:  \n",
    "                mass2.append(j)\n",
    "            dict1[i]=mass2\n",
    "    return dict1\n",
    "print(dict0(mass))\n",
    "\n",
    "dict2 = {i: list(filter(lambda x: mass[x] == i, range(len(mass)))) for i in mass}\n",
    "print(dict2)"
   ]
  }
 ],
 "metadata": {
  "kernelspec": {
   "display_name": "Python 3",
   "language": "python",
   "name": "python3"
  },
  "language_info": {
   "codemirror_mode": {
    "name": "ipython",
    "version": 3
   },
   "file_extension": ".py",
   "mimetype": "text/x-python",
   "name": "python",
   "nbconvert_exporter": "python",
   "pygments_lexer": "ipython3",
   "version": "3.8.5"
  }
 },
 "nbformat": 4,
 "nbformat_minor": 4
}
