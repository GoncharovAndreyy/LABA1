{
 "cells": [
  {
   "cell_type": "code",
   "execution_count": null,
   "metadata": {},
   "outputs": [],
   "source": [
    "def jaccard(set1, set2):\n",
    "    a = 0\n",
    "    for i in set1:\n",
    "        if i in set2:\n",
    "            a += 1\n",
    "    b = a / (len(set1) + len(set2) - a)\n",
    "    return b\n",
    "\n",
    "set1 = {1,2,3,4,5}\n",
    "set2 = {3,8,5,6,7}\n",
    "\n",
    "print(jaccard(set1, set2))\n"
   ]
  }
 ],
 "metadata": {
  "kernelspec": {
   "display_name": "Python 3",
   "language": "python",
   "name": "python3"
  },
  "language_info": {
   "codemirror_mode": {
    "name": "ipython",
    "version": 3
   },
   "file_extension": ".py",
   "mimetype": "text/x-python",
   "name": "python",
   "nbconvert_exporter": "python",
   "pygments_lexer": "ipython3",
   "version": "3.8.5"
  }
 },
 "nbformat": 4,
 "nbformat_minor": 4
}
